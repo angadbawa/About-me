{
 "cells": [
  {
   "cell_type": "markdown",
   "id": "8e1bde85",
   "metadata": {
    "papermill": {
     "duration": 0.015531,
     "end_time": "2023-02-17T12:25:36.869884",
     "exception": false,
     "start_time": "2023-02-17T12:25:36.854353",
     "status": "completed"
    },
    "tags": []
   },
   "source": [
    "# Sentiment analysis on Reviews given by viewers on IMDB"
   ]
  },
  {
   "cell_type": "markdown",
   "id": "e5f457c1",
   "metadata": {
    "papermill": {
     "duration": 0.013509,
     "end_time": "2023-02-17T12:25:36.897368",
     "exception": false,
     "start_time": "2023-02-17T12:25:36.883859",
     "status": "completed"
    },
    "tags": []
   },
   "source": [
    "# The Dataset and The Problem to Solve"
   ]
  },
  {
   "cell_type": "markdown",
   "id": "ba540ce3",
   "metadata": {
    "papermill": {
     "duration": 0.013739,
     "end_time": "2023-02-17T12:25:36.926605",
     "exception": false,
     "start_time": "2023-02-17T12:25:36.912866",
     "status": "completed"
    },
    "tags": []
   },
   "source": [
    "In this notebbok, we’ll use an IMDB dataset of 50k movie reviews available on Kaggle. The dataset contains 2 columns (review and sentiment) that will help us identify whether a review is positive or negative.\n",
    "Problem formulation: Our goal is to find which machine learning model is best suited to predict sentiment (output) given a movie review (input)."
   ]
  },
  {
   "cell_type": "markdown",
   "id": "3f2e4cf6",
   "metadata": {
    "papermill": {
     "duration": 0.01415,
     "end_time": "2023-02-17T12:25:36.954770",
     "exception": false,
     "start_time": "2023-02-17T12:25:36.940620",
     "status": "completed"
    },
    "tags": []
   },
   "source": [
    "# 1. Importing necessary libraries\n",
    "\n"
   ]
  },
  {
   "cell_type": "code",
   "execution_count": 1,
   "id": "23e411af",
   "metadata": {
    "_cell_guid": "b1076dfc-b9ad-4769-8c92-a6c4dae69d19",
    "_uuid": "8f2839f25d086af736a60e9eeb907d3b93b6e0e5",
    "execution": {
     "iopub.execute_input": "2023-02-17T12:25:36.986430Z",
     "iopub.status.busy": "2023-02-17T12:25:36.985422Z",
     "iopub.status.idle": "2023-02-17T12:25:48.694349Z",
     "shell.execute_reply": "2023-02-17T12:25:48.693088Z"
    },
    "papermill": {
     "duration": 11.728406,
     "end_time": "2023-02-17T12:25:48.697498",
     "exception": false,
     "start_time": "2023-02-17T12:25:36.969092",
     "status": "completed"
    },
    "tags": []
   },
   "outputs": [],
   "source": [
    "import numpy as np\n",
    "import pandas as pd\n",
    "import seaborn as sns\n",
    "import matplotlib.pyplot as plt\n",
    "import nltk\n",
    "from sklearn.feature_extraction.text import CountVectorizer\n",
    "from sklearn.feature_extraction.text import TfidfVectorizer\n",
    "from sklearn.preprocessing import LabelBinarizer\n",
    "from nltk.corpus import stopwords\n",
    "from nltk.stem.porter import PorterStemmer\n",
    "from wordcloud import WordCloud,STOPWORDS\n",
    "from nltk.stem import WordNetLemmatizer\n",
    "from nltk.tokenize import word_tokenize,sent_tokenize\n",
    "from bs4 import BeautifulSoup\n",
    "import spacy\n",
    "import re,string,unicodedata\n",
    "from nltk.tokenize.toktok import ToktokTokenizer\n",
    "from nltk.stem import LancasterStemmer,WordNetLemmatizer\n",
    "from sklearn.linear_model import LogisticRegression\n",
    "from sklearn.naive_bayes import MultinomialNB\n",
    "from sklearn.svm import SVC\n",
    "from textblob import TextBlob\n",
    "from textblob import Word\n",
    "from sklearn.metrics import classification_report,confusion_matrix,accuracy_score\n",
    "from sklearn.tree import DecisionTreeClassifier\n",
    "\n"
   ]
  },
  {
   "cell_type": "markdown",
   "id": "21973c64",
   "metadata": {
    "papermill": {
     "duration": 0.013474,
     "end_time": "2023-02-17T12:25:48.725049",
     "exception": false,
     "start_time": "2023-02-17T12:25:48.711575",
     "status": "completed"
    },
    "tags": []
   },
   "source": [
    "# 2. Preparing the data"
   ]
  },
  {
   "cell_type": "code",
   "execution_count": 2,
   "id": "a25ac686",
   "metadata": {
    "execution": {
     "iopub.execute_input": "2023-02-17T12:25:48.761660Z",
     "iopub.status.busy": "2023-02-17T12:25:48.760564Z",
     "iopub.status.idle": "2023-02-17T12:25:50.326524Z",
     "shell.execute_reply": "2023-02-17T12:25:50.325631Z"
    },
    "papermill": {
     "duration": 1.587243,
     "end_time": "2023-02-17T12:25:50.329048",
     "exception": false,
     "start_time": "2023-02-17T12:25:48.741805",
     "status": "completed"
    },
    "tags": []
   },
   "outputs": [],
   "source": [
    "df = pd.read_csv('/kaggle/input/imdb-dataset-of-50k-movie-reviews/IMDB Dataset.csv')"
   ]
  },
  {
   "cell_type": "code",
   "execution_count": 3,
   "id": "83908e7b",
   "metadata": {
    "execution": {
     "iopub.execute_input": "2023-02-17T12:25:50.360969Z",
     "iopub.status.busy": "2023-02-17T12:25:50.360257Z",
     "iopub.status.idle": "2023-02-17T12:25:50.368608Z",
     "shell.execute_reply": "2023-02-17T12:25:50.367436Z"
    },
    "papermill": {
     "duration": 0.027897,
     "end_time": "2023-02-17T12:25:50.371345",
     "exception": false,
     "start_time": "2023-02-17T12:25:50.343448",
     "status": "completed"
    },
    "tags": []
   },
   "outputs": [
    {
     "data": {
      "text/plain": [
       "(50000, 2)"
      ]
     },
     "execution_count": 3,
     "metadata": {},
     "output_type": "execute_result"
    }
   ],
   "source": [
    "df.shape"
   ]
  },
  {
   "cell_type": "code",
   "execution_count": 4,
   "id": "13209d4b",
   "metadata": {
    "execution": {
     "iopub.execute_input": "2023-02-17T12:25:50.402965Z",
     "iopub.status.busy": "2023-02-17T12:25:50.402545Z",
     "iopub.status.idle": "2023-02-17T12:25:50.417978Z",
     "shell.execute_reply": "2023-02-17T12:25:50.416910Z"
    },
    "papermill": {
     "duration": 0.034053,
     "end_time": "2023-02-17T12:25:50.420452",
     "exception": false,
     "start_time": "2023-02-17T12:25:50.386399",
     "status": "completed"
    },
    "tags": []
   },
   "outputs": [
    {
     "data": {
      "text/plain": [
       "<bound method NDFrame.head of                                                   review sentiment\n",
       "0      One of the other reviewers has mentioned that ...  positive\n",
       "1      A wonderful little production. <br /><br />The...  positive\n",
       "2      I thought this was a wonderful way to spend ti...  positive\n",
       "3      Basically there's a family where a little boy ...  negative\n",
       "4      Petter Mattei's \"Love in the Time of Money\" is...  positive\n",
       "...                                                  ...       ...\n",
       "49995  I thought this movie did a down right good job...  positive\n",
       "49996  Bad plot, bad dialogue, bad acting, idiotic di...  negative\n",
       "49997  I am a Catholic taught in parochial elementary...  negative\n",
       "49998  I'm going to have to disagree with the previou...  negative\n",
       "49999  No one expects the Star Trek movies to be high...  negative\n",
       "\n",
       "[50000 rows x 2 columns]>"
      ]
     },
     "execution_count": 4,
     "metadata": {},
     "output_type": "execute_result"
    }
   ],
   "source": [
    "df.head"
   ]
  },
  {
   "cell_type": "code",
   "execution_count": 5,
   "id": "7e6dd56d",
   "metadata": {
    "execution": {
     "iopub.execute_input": "2023-02-17T12:25:50.451512Z",
     "iopub.status.busy": "2023-02-17T12:25:50.451137Z",
     "iopub.status.idle": "2023-02-17T12:25:50.561546Z",
     "shell.execute_reply": "2023-02-17T12:25:50.560723Z"
    },
    "papermill": {
     "duration": 0.128458,
     "end_time": "2023-02-17T12:25:50.563581",
     "exception": false,
     "start_time": "2023-02-17T12:25:50.435123",
     "status": "completed"
    },
    "tags": []
   },
   "outputs": [
    {
     "data": {
      "text/html": [
       "<div>\n",
       "<style scoped>\n",
       "    .dataframe tbody tr th:only-of-type {\n",
       "        vertical-align: middle;\n",
       "    }\n",
       "\n",
       "    .dataframe tbody tr th {\n",
       "        vertical-align: top;\n",
       "    }\n",
       "\n",
       "    .dataframe thead th {\n",
       "        text-align: right;\n",
       "    }\n",
       "</style>\n",
       "<table border=\"1\" class=\"dataframe\">\n",
       "  <thead>\n",
       "    <tr style=\"text-align: right;\">\n",
       "      <th></th>\n",
       "      <th>review</th>\n",
       "      <th>sentiment</th>\n",
       "    </tr>\n",
       "  </thead>\n",
       "  <tbody>\n",
       "    <tr>\n",
       "      <th>count</th>\n",
       "      <td>50000</td>\n",
       "      <td>50000</td>\n",
       "    </tr>\n",
       "    <tr>\n",
       "      <th>unique</th>\n",
       "      <td>49582</td>\n",
       "      <td>2</td>\n",
       "    </tr>\n",
       "    <tr>\n",
       "      <th>top</th>\n",
       "      <td>Loved today's show!!! It was a variety and not...</td>\n",
       "      <td>positive</td>\n",
       "    </tr>\n",
       "    <tr>\n",
       "      <th>freq</th>\n",
       "      <td>5</td>\n",
       "      <td>25000</td>\n",
       "    </tr>\n",
       "  </tbody>\n",
       "</table>\n",
       "</div>"
      ],
      "text/plain": [
       "                                                   review sentiment\n",
       "count                                               50000     50000\n",
       "unique                                              49582         2\n",
       "top     Loved today's show!!! It was a variety and not...  positive\n",
       "freq                                                    5     25000"
      ]
     },
     "execution_count": 5,
     "metadata": {},
     "output_type": "execute_result"
    }
   ],
   "source": [
    "df.describe()"
   ]
  },
  {
   "cell_type": "code",
   "execution_count": 6,
   "id": "b177c00c",
   "metadata": {
    "execution": {
     "iopub.execute_input": "2023-02-17T12:25:50.594842Z",
     "iopub.status.busy": "2023-02-17T12:25:50.594441Z",
     "iopub.status.idle": "2023-02-17T12:25:50.605804Z",
     "shell.execute_reply": "2023-02-17T12:25:50.604640Z"
    },
    "papermill": {
     "duration": 0.029971,
     "end_time": "2023-02-17T12:25:50.608230",
     "exception": false,
     "start_time": "2023-02-17T12:25:50.578259",
     "status": "completed"
    },
    "tags": []
   },
   "outputs": [
    {
     "data": {
      "text/plain": [
       "positive    25000\n",
       "negative    25000\n",
       "Name: sentiment, dtype: int64"
      ]
     },
     "execution_count": 6,
     "metadata": {},
     "output_type": "execute_result"
    }
   ],
   "source": [
    "df['sentiment'].value_counts()"
   ]
  },
  {
   "cell_type": "code",
   "execution_count": 7,
   "id": "4629f4b9",
   "metadata": {
    "execution": {
     "iopub.execute_input": "2023-02-17T12:25:50.640015Z",
     "iopub.status.busy": "2023-02-17T12:25:50.639214Z",
     "iopub.status.idle": "2023-02-17T12:25:50.874951Z",
     "shell.execute_reply": "2023-02-17T12:25:50.873784Z"
    },
    "papermill": {
     "duration": 0.254363,
     "end_time": "2023-02-17T12:25:50.877352",
     "exception": false,
     "start_time": "2023-02-17T12:25:50.622989",
     "status": "completed"
    },
    "tags": []
   },
   "outputs": [
    {
     "data": {
      "image/png": "[encoded data removed]",
      "text/plain": [
       "<Figure size 720x288 with 1 Axes>"
      ]
     },
     "metadata": {
      "needs_background": "light"
     },
     "output_type": "display_data"
    }
   ],
   "source": [
    "df_positive = df[df['sentiment']=='positive']\n",
    "df_negative = df[df['sentiment']=='negative']\n",
    "\n",
    "df_review_imb = pd.concat([df_positive,df_negative ])\n",
    "colors = sns.color_palette('deep')\n",
    "plt.figure(figsize=(10,4), tight_layout=True)\n",
    "plt.bar(x=['Positive', 'Negative'],\n",
    "        height=df_review_imb.value_counts(['sentiment']),\n",
    "        color=colors[:5])\n",
    "plt.title('Sentiment')\n",
    "plt.savefig('sentiment.png')\n",
    "plt.show()"
   ]
  },
  {
   "cell_type": "code",
   "execution_count": 8,
   "id": "5dac2cdc",
   "metadata": {
    "execution": {
     "iopub.execute_input": "2023-02-17T12:25:50.909181Z",
     "iopub.status.busy": "2023-02-17T12:25:50.908724Z",
     "iopub.status.idle": "2023-02-17T12:25:50.920793Z",
     "shell.execute_reply": "2023-02-17T12:25:50.919885Z"
    },
    "papermill": {
     "duration": 0.031169,
     "end_time": "2023-02-17T12:25:50.923615",
     "exception": false,
     "start_time": "2023-02-17T12:25:50.892446",
     "status": "completed"
    },
    "tags": []
   },
   "outputs": [
    {
     "name": "stdout",
     "output_type": "stream",
     "text": [
      "Positive review:                                                    review sentiment\n",
      "0      One of the other reviewers has mentioned that ...  positive\n",
      "1      A wonderful little production. <br /><br />The...  positive\n",
      "2      I thought this was a wonderful way to spend ti...  positive\n",
      "4      Petter Mattei's \"Love in the Time of Money\" is...  positive\n",
      "5      Probably my all-time favorite movie, a story o...  positive\n",
      "...                                                  ...       ...\n",
      "49983  I loved it, having been a fan of the original ...  positive\n",
      "49985  Imaginary Heroes is clearly the best film of t...  positive\n",
      "49989  I got this one a few weeks ago and love it! It...  positive\n",
      "49992  John Garfield plays a Marine who is blinded by...  positive\n",
      "49995  I thought this movie did a down right good job...  positive\n",
      "\n",
      "[25000 rows x 2 columns]\n",
      "\n",
      "\n",
      "Negative review:                                                    review sentiment\n",
      "3      Basically there's a family where a little boy ...  negative\n",
      "7      This show was an amazing, fresh & innovative i...  negative\n",
      "8      Encouraged by the positive comments about this...  negative\n",
      "10     Phil the Alien is one of those quirky films wh...  negative\n",
      "11     I saw this movie when I was about 12 when it c...  negative\n",
      "...                                                  ...       ...\n",
      "49994  This is your typical junk comedy.<br /><br />T...  negative\n",
      "49996  Bad plot, bad dialogue, bad acting, idiotic di...  negative\n",
      "49997  I am a Catholic taught in parochial elementary...  negative\n",
      "49998  I'm going to have to disagree with the previou...  negative\n",
      "49999  No one expects the Star Trek movies to be high...  negative\n",
      "\n",
      "[25000 rows x 2 columns]\n",
      "\n",
      "\n"
     ]
    }
   ],
   "source": [
    "print('Positive review: ', df_positive)\n",
    "print('\\n')\n",
    "print('Negative review: ', df_negative)\n",
    "print('\\n')"
   ]
  },
  {
   "cell_type": "markdown",
   "id": "a270be17",
   "metadata": {
    "papermill": {
     "duration": 0.014973,
     "end_time": "2023-02-17T12:25:50.953893",
     "exception": false,
     "start_time": "2023-02-17T12:25:50.938920",
     "status": "completed"
    },
    "tags": []
   },
   "source": [
    "# 3. Splitting data into train and test set"
   ]
  },
  {
   "cell_type": "code",
   "execution_count": 9,
   "id": "3ebbe829",
   "metadata": {
    "execution": {
     "iopub.execute_input": "2023-02-17T12:25:50.986064Z",
     "iopub.status.busy": "2023-02-17T12:25:50.985625Z",
     "iopub.status.idle": "2023-02-17T12:25:50.992335Z",
     "shell.execute_reply": "2023-02-17T12:25:50.991553Z"
    },
    "papermill": {
     "duration": 0.025629,
     "end_time": "2023-02-17T12:25:50.994705",
     "exception": false,
     "start_time": "2023-02-17T12:25:50.969076",
     "status": "completed"
    },
    "tags": []
   },
   "outputs": [
    {
     "name": "stdout",
     "output_type": "stream",
     "text": [
      "(40000,) (40000,)\n",
      "(10000,) (10000,)\n"
     ]
    }
   ],
   "source": [
    "#split the dataset  \n",
    "#train dataset\n",
    "train_reviews=df.review[:40000]\n",
    "train_sentiments=df.sentiment[:40000]\n",
    "#test dataset\n",
    "test_reviews=df.review[40000:]\n",
    "test_sentiments=df.sentiment[40000:]\n",
    "print(train_reviews.shape,train_sentiments.shape)\n",
    "print(test_reviews.shape,test_sentiments.shape)"
   ]
  },
  {
   "cell_type": "markdown",
   "id": "d7447f9d",
   "metadata": {
    "papermill": {
     "duration": 0.01523,
     "end_time": "2023-02-17T12:25:51.025013",
     "exception": false,
     "start_time": "2023-02-17T12:25:51.009783",
     "status": "completed"
    },
    "tags": []
   },
   "source": [
    "# 4. Data Cleaning"
   ]
  },
  {
   "cell_type": "markdown",
   "id": "bf8e5dd0",
   "metadata": {
    "papermill": {
     "duration": 0.015625,
     "end_time": "2023-02-17T12:25:51.056911",
     "exception": false,
     "start_time": "2023-02-17T12:25:51.041286",
     "status": "completed"
    },
    "tags": []
   },
   "source": [
    "**Text normalization**"
   ]
  },
  {
   "cell_type": "code",
   "execution_count": 10,
   "id": "1273d62b",
   "metadata": {
    "execution": {
     "iopub.execute_input": "2023-02-17T12:25:51.090465Z",
     "iopub.status.busy": "2023-02-17T12:25:51.090051Z",
     "iopub.status.idle": "2023-02-17T12:25:51.100917Z",
     "shell.execute_reply": "2023-02-17T12:25:51.099810Z"
    },
    "papermill": {
     "duration": 0.031011,
     "end_time": "2023-02-17T12:25:51.103519",
     "exception": false,
     "start_time": "2023-02-17T12:25:51.072508",
     "status": "completed"
    },
    "tags": []
   },
   "outputs": [],
   "source": [
    "#Tokenization of text\n",
    "tokenizer=ToktokTokenizer()\n",
    "#Setting English stopwords\n",
    "stopword_list=nltk.corpus.stopwords.words('english')"
   ]
  },
  {
   "cell_type": "markdown",
   "id": "5d0539b4",
   "metadata": {
    "papermill": {
     "duration": 0.014732,
     "end_time": "2023-02-17T12:25:51.133541",
     "exception": false,
     "start_time": "2023-02-17T12:25:51.118809",
     "status": "completed"
    },
    "tags": []
   },
   "source": [
    "**Removing html strips and noise text**"
   ]
  },
  {
   "cell_type": "code",
   "execution_count": 11,
   "id": "defd0741",
   "metadata": {
    "execution": {
     "iopub.execute_input": "2023-02-17T12:25:51.165875Z",
     "iopub.status.busy": "2023-02-17T12:25:51.165459Z",
     "iopub.status.idle": "2023-02-17T12:26:00.985295Z",
     "shell.execute_reply": "2023-02-17T12:26:00.984224Z"
    },
    "papermill": {
     "duration": 9.839153,
     "end_time": "2023-02-17T12:26:00.988134",
     "exception": false,
     "start_time": "2023-02-17T12:25:51.148981",
     "status": "completed"
    },
    "tags": []
   },
   "outputs": [
    {
     "name": "stderr",
     "output_type": "stream",
     "text": [
      "/opt/conda/lib/python3.7/site-packages/bs4/__init__.py:439: MarkupResemblesLocatorWarning: The input looks more like a filename than markup. You may want to open this file and pass the filehandle into Beautiful Soup.\n",
      "  MarkupResemblesLocatorWarning\n"
     ]
    }
   ],
   "source": [
    "#Removing the html strips\n",
    "def strip_html(text):\n",
    "    soup = BeautifulSoup(text, \"html.parser\")\n",
    "    return soup.get_text()\n",
    "\n",
    "#Removing the square brackets\n",
    "def remove_between_square_brackets(text):\n",
    "    return re.sub('\\[[^]]*\\]', '', text)\n",
    "\n",
    "#Removing the noisy text\n",
    "def denoise_text(text):\n",
    "    text = strip_html(text)\n",
    "    text = remove_between_square_brackets(text)\n",
    "    return text\n",
    "#Apply function on review column\n",
    "df['review']=df['review'].apply(denoise_text)"
   ]
  },
  {
   "cell_type": "markdown",
   "id": "0ec782b0",
   "metadata": {
    "papermill": {
     "duration": 0.015013,
     "end_time": "2023-02-17T12:26:01.018621",
     "exception": false,
     "start_time": "2023-02-17T12:26:01.003608",
     "status": "completed"
    },
    "tags": []
   },
   "source": [
    "**Removing special characters**"
   ]
  },
  {
   "cell_type": "code",
   "execution_count": 12,
   "id": "e44249d3",
   "metadata": {
    "execution": {
     "iopub.execute_input": "2023-02-17T12:26:01.050811Z",
     "iopub.status.busy": "2023-02-17T12:26:01.050377Z",
     "iopub.status.idle": "2023-02-17T12:26:02.485251Z",
     "shell.execute_reply": "2023-02-17T12:26:02.484070Z"
    },
    "papermill": {
     "duration": 1.454473,
     "end_time": "2023-02-17T12:26:02.488234",
     "exception": false,
     "start_time": "2023-02-17T12:26:01.033761",
     "status": "completed"
    },
    "tags": []
   },
   "outputs": [],
   "source": [
    "#Define function for removing special characters\n",
    "def remove_special_characters(text, remove_digits=True):\n",
    "    pattern=r'[^a-zA-z0-9\\s]'\n",
    "    text=re.sub(pattern,'',text)\n",
    "    return text\n",
    "#Apply function on review column\n",
    "df['review']=df['review'].apply(remove_special_characters)"
   ]
  },
  {
   "cell_type": "markdown",
   "id": "3b40a182",
   "metadata": {
    "papermill": {
     "duration": 0.015101,
     "end_time": "2023-02-17T12:26:02.518807",
     "exception": false,
     "start_time": "2023-02-17T12:26:02.503706",
     "status": "completed"
    },
    "tags": []
   },
   "source": [
    "**Text stemming**"
   ]
  },
  {
   "cell_type": "code",
   "execution_count": 13,
   "id": "2835aa5c",
   "metadata": {
    "execution": {
     "iopub.execute_input": "2023-02-17T12:26:02.551084Z",
     "iopub.status.busy": "2023-02-17T12:26:02.550645Z",
     "iopub.status.idle": "2023-02-17T12:30:18.749445Z",
     "shell.execute_reply": "2023-02-17T12:30:18.748126Z"
    },
    "papermill": {
     "duration": 256.218434,
     "end_time": "2023-02-17T12:30:18.752482",
     "exception": false,
     "start_time": "2023-02-17T12:26:02.534048",
     "status": "completed"
    },
    "tags": []
   },
   "outputs": [],
   "source": [
    "def simple_stemmer(text):\n",
    "    ps=nltk.porter.PorterStemmer()\n",
    "    text= ' '.join([ps.stem(word) for word in text.split()])\n",
    "    return text\n",
    "#Apply function on review column\n",
    "df['review']=df['review'].apply(simple_stemmer)"
   ]
  },
  {
   "cell_type": "markdown",
   "id": "379593c2",
   "metadata": {
    "papermill": {
     "duration": 0.014905,
     "end_time": "2023-02-17T12:30:18.783268",
     "exception": false,
     "start_time": "2023-02-17T12:30:18.768363",
     "status": "completed"
    },
    "tags": []
   },
   "source": [
    "**Removing stopwords**"
   ]
  },
  {
   "cell_type": "code",
   "execution_count": 14,
   "id": "2184ccca",
   "metadata": {
    "execution": {
     "iopub.execute_input": "2023-02-17T12:30:18.815386Z",
     "iopub.status.busy": "2023-02-17T12:30:18.814951Z",
     "iopub.status.idle": "2023-02-17T12:31:00.841247Z",
     "shell.execute_reply": "2023-02-17T12:31:00.839951Z"
    },
    "papermill": {
     "duration": 42.045451,
     "end_time": "2023-02-17T12:31:00.844118",
     "exception": false,
     "start_time": "2023-02-17T12:30:18.798667",
     "status": "completed"
    },
    "tags": []
   },
   "outputs": [
    {
     "name": "stdout",
     "output_type": "stream",
     "text": [
      "{'hasn', 'y', 'o', 'some', \"isn't\", 'by', 'for', 'on', 'needn', 'ain', 'couldn', 'at', 'through', 'how', 'wasn', \"doesn't\", 'hadn', 'during', \"aren't\", 'ma', 'theirs', 'shan', 'ours', 'myself', 'once', 'it', \"wasn't\", 'had', \"couldn't\", 'from', 'such', 'do', 'weren', 'until', 'below', 'few', 'didn', 'if', 'shouldn', 'our', 'him', 'with', 'you', 'any', 'won', 'having', \"shouldn't\", 'yourself', 'off', 'again', 'in', 'those', \"you've\", 'further', 'an', 'they', 'mightn', 'over', 'can', 'i', 'is', 'have', 'down', 'under', \"mightn't\", 'be', 'own', \"that'll\", 'doesn', 'not', 'm', 'did', 'are', 'of', 'should', 'she', 'what', 'isn', 'which', 'my', 'why', 't', 'both', \"should've\", 'himself', 'itself', 'here', 'so', 'does', 'yourselves', 'about', 'only', 'don', \"needn't\", 'as', \"won't\", \"you're\", 'too', 'your', 'ourselves', 'out', 'am', 'than', 're', \"you'd\", 'while', 'each', 'hers', 'same', 'the', 'when', 'most', \"she's\", 'or', 'its', 'we', 'just', \"didn't\", 'herself', \"hasn't\", 'll', 'he', 'above', 'd', 'mustn', 'haven', \"haven't\", 'no', 'more', \"shan't\", 'up', 'aren', 'against', 'themselves', 'were', 'then', 'after', 'into', 'who', 'very', \"you'll\", 'that', 'before', 'this', 'between', \"don't\", 'me', 'his', 'them', 'now', 've', 'being', \"wouldn't\", 'and', 'these', 'yours', 'her', 'a', \"mustn't\", 'been', 'where', 'has', 'other', 'to', 'their', 'was', 'there', 'but', \"it's\", \"hadn't\", 'whom', 'because', 'nor', 'doing', 's', 'all', 'will', \"weren't\", 'wouldn'}\n"
     ]
    }
   ],
   "source": [
    "#set stopwords to english\n",
    "stop=set(stopwords.words('english'))\n",
    "print(stop)\n",
    "\n",
    "#removing the stopwords\n",
    "def remove_stopwords(text, is_lower_case=False):\n",
    "    tokens = tokenizer.tokenize(text)\n",
    "    tokens = [token.strip() for token in tokens]\n",
    "    if is_lower_case:\n",
    "        filtered_tokens = [token for token in tokens if token not in stopword_list]\n",
    "    else:\n",
    "        filtered_tokens = [token for token in tokens if token.lower() not in stopword_list]\n",
    "    filtered_text = ' '.join(filtered_tokens)    \n",
    "    return filtered_text\n",
    "#Apply function on review column\n",
    "df['review']=df['review'].apply(remove_stopwords)"
   ]
  },
  {
   "cell_type": "markdown",
   "id": "45df1b54",
   "metadata": {
    "papermill": {
     "duration": 0.014702,
     "end_time": "2023-02-17T12:31:00.874273",
     "exception": false,
     "start_time": "2023-02-17T12:31:00.859571",
     "status": "completed"
    },
    "tags": []
   },
   "source": [
    "**Normalised Train Review**"
   ]
  },
  {
   "cell_type": "code",
   "execution_count": 15,
   "id": "3a592f8d",
   "metadata": {
    "execution": {
     "iopub.execute_input": "2023-02-17T12:31:00.907166Z",
     "iopub.status.busy": "2023-02-17T12:31:00.906506Z",
     "iopub.status.idle": "2023-02-17T12:31:00.913796Z",
     "shell.execute_reply": "2023-02-17T12:31:00.912828Z"
    },
    "papermill": {
     "duration": 0.026105,
     "end_time": "2023-02-17T12:31:00.915923",
     "exception": false,
     "start_time": "2023-02-17T12:31:00.889818",
     "status": "completed"
    },
    "tags": []
   },
   "outputs": [
    {
     "data": {
      "text/plain": [
       "'thi movi aw cant even bother write review thi garbag say one bore film ive ever seenand act veri bad boy play main charact realli annoy got express hi face movi want slap basic 80 movi slow motion shot skateboard weird music utter shtappar ive got write least 10 line text submit thi comment ill use line say lead charact ha got one face want slapmeh give upthi movi suck'"
      ]
     },
     "execution_count": 15,
     "metadata": {},
     "output_type": "execute_result"
    }
   ],
   "source": [
    "norm_train_reviews=df.review[:40000]\n",
    "norm_train_reviews[1000]"
   ]
  },
  {
   "cell_type": "markdown",
   "id": "9c6a5db7",
   "metadata": {
    "papermill": {
     "duration": 0.015229,
     "end_time": "2023-02-17T12:31:00.946659",
     "exception": false,
     "start_time": "2023-02-17T12:31:00.931430",
     "status": "completed"
    },
    "tags": []
   },
   "source": [
    "**Normalised Test Review**"
   ]
  },
  {
   "cell_type": "code",
   "execution_count": 16,
   "id": "e4b402e6",
   "metadata": {
    "execution": {
     "iopub.execute_input": "2023-02-17T12:31:00.980287Z",
     "iopub.status.busy": "2023-02-17T12:31:00.979620Z",
     "iopub.status.idle": "2023-02-17T12:31:00.987433Z",
     "shell.execute_reply": "2023-02-17T12:31:00.986348Z"
    },
    "papermill": {
     "duration": 0.026992,
     "end_time": "2023-02-17T12:31:00.989598",
     "exception": false,
     "start_time": "2023-02-17T12:31:00.962606",
     "status": "completed"
    },
    "tags": []
   },
   "outputs": [
    {
     "data": {
      "text/plain": [
       "'ten ten star exagger thi documentari provid viewer uniqu footag 2003 coup venezuela thi great film minimum knowledg requir want express compet opinion venezuela hugo chavezth dramat electrifi atmospher uniqu footag allow experi true histor moment youll feel like middl situat film help gain uniqu insight happen 2003 help hear side rare hear tv someth shouldnt miss'"
      ]
     },
     "execution_count": 16,
     "metadata": {},
     "output_type": "execute_result"
    }
   ],
   "source": [
    "norm_test_reviews=df.review[40000:]\n",
    "norm_test_reviews[48000]"
   ]
  },
  {
   "cell_type": "code",
   "execution_count": 17,
   "id": "350e8b5f",
   "metadata": {
    "execution": {
     "iopub.execute_input": "2023-02-17T12:31:01.023300Z",
     "iopub.status.busy": "2023-02-17T12:31:01.022865Z",
     "iopub.status.idle": "2023-02-17T12:31:01.857875Z",
     "shell.execute_reply": "2023-02-17T12:31:01.857035Z"
    },
    "papermill": {
     "duration": 0.856639,
     "end_time": "2023-02-17T12:31:01.861883",
     "exception": false,
     "start_time": "2023-02-17T12:31:01.005244",
     "status": "completed"
    },
    "tags": []
   },
   "outputs": [
    {
     "data": {
      "text/plain": [
       "<function matplotlib.pyplot.show(close=None, block=None)>"
      ]
     },
     "execution_count": 17,
     "metadata": {},
     "output_type": "execute_result"
    },
    {
     "data": {
      "image/png": "[encoded data removed]",
      "text/plain": [
       "<Figure size 720x720 with 1 Axes>"
      ]
     },
     "metadata": {
      "needs_background": "light"
     },
     "output_type": "display_data"
    }
   ],
   "source": [
    "#word cloud for positive review words\n",
    "plt.figure(figsize=(10,10))\n",
    "positive_text=norm_train_reviews[1]\n",
    "WC=WordCloud(width=1000,height=500,max_words=500,min_font_size=5)\n",
    "positive_words=WC.generate(positive_text)\n",
    "plt.imshow(positive_words,interpolation='bilinear')\n",
    "plt.show"
   ]
  },
  {
   "cell_type": "code",
   "execution_count": 18,
   "id": "c43ad86d",
   "metadata": {
    "execution": {
     "iopub.execute_input": "2023-02-17T12:31:01.901439Z",
     "iopub.status.busy": "2023-02-17T12:31:01.901056Z",
     "iopub.status.idle": "2023-02-17T12:31:02.664357Z",
     "shell.execute_reply": "2023-02-17T12:31:02.663257Z"
    },
    "papermill": {
     "duration": 0.78629,
     "end_time": "2023-02-17T12:31:02.667297",
     "exception": false,
     "start_time": "2023-02-17T12:31:01.881007",
     "status": "completed"
    },
    "tags": []
   },
   "outputs": [
    {
     "data": {
      "text/plain": [
       "<function matplotlib.pyplot.show(close=None, block=None)>"
      ]
     },
     "execution_count": 18,
     "metadata": {},
     "output_type": "execute_result"
    },
    {
     "data": {
      "image/png": "[encoded data removed]",
      "text/plain": [
       "<Figure size 720x720 with 1 Axes>"
      ]
     },
     "metadata": {
      "needs_background": "light"
     },
     "output_type": "display_data"
    }
   ],
   "source": [
    "#Word cloud for negative review words\n",
    "plt.figure(figsize=(10,10))\n",
    "negative_text=norm_train_reviews[8]\n",
    "WC=WordCloud(width=1000,height=500,max_words=500,min_font_size=5)\n",
    "negative_words=WC.generate(negative_text)\n",
    "plt.imshow(negative_words,interpolation='bilinear')\n",
    "plt.show"
   ]
  },
  {
   "cell_type": "markdown",
   "id": "e278d42d",
   "metadata": {
    "papermill": {
     "duration": 0.020643,
     "end_time": "2023-02-17T12:31:02.709232",
     "exception": false,
     "start_time": "2023-02-17T12:31:02.688589",
     "status": "completed"
    },
    "tags": []
   },
   "source": [
    "# 5. Text Representation (Bag of words)\n",
    "\n",
    "Classifiers and learning algorithms expect numerical feature vectors rather than raw text documents. This is why we need to turn our movie review text into numerical vectors.\n",
    "\n",
    "We’ll use bag of words (BOW) since we care about the frequency of the words in text reviews; however, the order of words is irrelevant. Two common ways to represent bag of words are CountVectorizer and Term Frequency, Inverse Document Frequency (TF-IDF)\n",
    "\n",
    "1. **Bow-of-Words**; simply counts how many times each word appears in a document."
   ]
  },
  {
   "cell_type": "code",
   "execution_count": 19,
   "id": "ee24ae1a",
   "metadata": {
    "execution": {
     "iopub.execute_input": "2023-02-17T12:31:02.753224Z",
     "iopub.status.busy": "2023-02-17T12:31:02.752787Z",
     "iopub.status.idle": "2023-02-17T12:31:53.833770Z",
     "shell.execute_reply": "2023-02-17T12:31:53.832542Z"
    },
    "papermill": {
     "duration": 51.126741,
     "end_time": "2023-02-17T12:31:53.857156",
     "exception": false,
     "start_time": "2023-02-17T12:31:02.730415",
     "status": "completed"
    },
    "tags": []
   },
   "outputs": [
    {
     "name": "stdout",
     "output_type": "stream",
     "text": [
      "BOW_cv_train: (40000, 6209089)\n",
      "BOW_cv_test: (10000, 6209089)\n"
     ]
    }
   ],
   "source": [
    "#Count vectorizer for bag of words\n",
    "cv=CountVectorizer(min_df=0,max_df=1,binary=False,ngram_range=(1,3))\n",
    "#transformed train reviews\n",
    "cv_train_reviews=cv.fit_transform(norm_train_reviews)\n",
    "#transformed test reviews\n",
    "cv_test_reviews=cv.transform(norm_test_reviews)\n",
    "\n",
    "print('BOW_cv_train:',cv_train_reviews.shape)\n",
    "print('BOW_cv_test:',cv_test_reviews.shape)\n",
    "#vocab=cv.get_feature_names()-toget feature names"
   ]
  },
  {
   "cell_type": "markdown",
   "id": "9609adbc",
   "metadata": {
    "papermill": {
     "duration": 0.019724,
     "end_time": "2023-02-17T12:31:53.897450",
     "exception": false,
     "start_time": "2023-02-17T12:31:53.877726",
     "status": "completed"
    },
    "tags": []
   },
   "source": [
    "2. **TF-IDF**; multiples term frequency with inverse document frequency. This puts more weight on words that don't appear in many documents. "
   ]
  },
  {
   "cell_type": "code",
   "execution_count": 20,
   "id": "772f09c8",
   "metadata": {
    "execution": {
     "iopub.execute_input": "2023-02-17T12:31:53.939459Z",
     "iopub.status.busy": "2023-02-17T12:31:53.939017Z",
     "iopub.status.idle": "2023-02-17T12:32:47.757831Z",
     "shell.execute_reply": "2023-02-17T12:32:47.756574Z"
    },
    "papermill": {
     "duration": 53.864527,
     "end_time": "2023-02-17T12:32:47.781954",
     "exception": false,
     "start_time": "2023-02-17T12:31:53.917427",
     "status": "completed"
    },
    "tags": []
   },
   "outputs": [
    {
     "name": "stdout",
     "output_type": "stream",
     "text": [
      "Tfidf_train: (40000, 6209089)\n",
      "Tfidf_test: (10000, 6209089)\n"
     ]
    }
   ],
   "source": [
    "#Tfidf vectorizer\n",
    "tv=TfidfVectorizer(min_df=0,max_df=1,use_idf=True,ngram_range=(1,3))\n",
    "#transformed train reviews\n",
    "tv_train_reviews=tv.fit_transform(norm_train_reviews)\n",
    "#transformed test reviews\n",
    "tv_test_reviews=tv.transform(norm_test_reviews)\n",
    "print('Tfidf_train:',tv_train_reviews.shape)\n",
    "print('Tfidf_test:',tv_test_reviews.shape)"
   ]
  },
  {
   "cell_type": "markdown",
   "id": "13ac95ec",
   "metadata": {
    "papermill": {
     "duration": 0.020564,
     "end_time": "2023-02-17T12:32:47.824005",
     "exception": false,
     "start_time": "2023-02-17T12:32:47.803441",
     "status": "completed"
    },
    "tags": []
   },
   "source": [
    "**Labeling the sentiment text**"
   ]
  },
  {
   "cell_type": "code",
   "execution_count": 21,
   "id": "3738ae11",
   "metadata": {
    "execution": {
     "iopub.execute_input": "2023-02-17T12:32:47.868431Z",
     "iopub.status.busy": "2023-02-17T12:32:47.867988Z",
     "iopub.status.idle": "2023-02-17T12:32:48.010436Z",
     "shell.execute_reply": "2023-02-17T12:32:48.009069Z"
    },
    "papermill": {
     "duration": 0.169859,
     "end_time": "2023-02-17T12:32:48.014711",
     "exception": false,
     "start_time": "2023-02-17T12:32:47.844852",
     "status": "completed"
    },
    "tags": []
   },
   "outputs": [
    {
     "name": "stdout",
     "output_type": "stream",
     "text": [
      "(50000, 1)\n"
     ]
    }
   ],
   "source": [
    "#labeling the sentiment data\n",
    "lb=LabelBinarizer()\n",
    "#transformed sentiment data\n",
    "sentiment_data=lb.fit_transform(df['sentiment'])\n",
    "print(sentiment_data.shape)"
   ]
  },
  {
   "cell_type": "markdown",
   "id": "691d030c",
   "metadata": {
    "papermill": {
     "duration": 0.020565,
     "end_time": "2023-02-17T12:32:48.056779",
     "exception": false,
     "start_time": "2023-02-17T12:32:48.036214",
     "status": "completed"
    },
    "tags": []
   },
   "source": [
    "**Split the sentiment data**"
   ]
  },
  {
   "cell_type": "code",
   "execution_count": 22,
   "id": "24aa5aba",
   "metadata": {
    "execution": {
     "iopub.execute_input": "2023-02-17T12:32:48.100080Z",
     "iopub.status.busy": "2023-02-17T12:32:48.099411Z",
     "iopub.status.idle": "2023-02-17T12:32:48.106802Z",
     "shell.execute_reply": "2023-02-17T12:32:48.105224Z"
    },
    "papermill": {
     "duration": 0.031656,
     "end_time": "2023-02-17T12:32:48.109154",
     "exception": false,
     "start_time": "2023-02-17T12:32:48.077498",
     "status": "completed"
    },
    "tags": []
   },
   "outputs": [
    {
     "name": "stdout",
     "output_type": "stream",
     "text": [
      "[[1]\n",
      " [1]\n",
      " [1]\n",
      " ...\n",
      " [1]\n",
      " [0]\n",
      " [0]]\n",
      "[[0]\n",
      " [0]\n",
      " [0]\n",
      " ...\n",
      " [0]\n",
      " [0]\n",
      " [0]]\n"
     ]
    }
   ],
   "source": [
    "#Spliting the sentiment data\n",
    "train_sentiments=sentiment_data[:40000]\n",
    "test_sentiments=sentiment_data[40000:]\n",
    "print(train_sentiments)\n",
    "print(test_sentiments)"
   ]
  },
  {
   "cell_type": "markdown",
   "id": "ed67c323",
   "metadata": {
    "papermill": {
     "duration": 0.020482,
     "end_time": "2023-02-17T12:32:48.150486",
     "exception": false,
     "start_time": "2023-02-17T12:32:48.130004",
     "status": "completed"
    },
    "tags": []
   },
   "source": [
    "# 6. Model Training"
   ]
  },
  {
   "cell_type": "markdown",
   "id": "d55b01ff",
   "metadata": {
    "papermill": {
     "duration": 0.020138,
     "end_time": "2023-02-17T12:32:48.191296",
     "exception": false,
     "start_time": "2023-02-17T12:32:48.171158",
     "status": "completed"
    },
    "tags": []
   },
   "source": [
    "# I. Logistic Regression"
   ]
  },
  {
   "cell_type": "markdown",
   "id": "05444501",
   "metadata": {
    "papermill": {
     "duration": 0.020597,
     "end_time": "2023-02-17T12:32:48.232350",
     "exception": false,
     "start_time": "2023-02-17T12:32:48.211753",
     "status": "completed"
    },
    "tags": []
   },
   "source": [
    "**a) For BOW**"
   ]
  },
  {
   "cell_type": "code",
   "execution_count": 23,
   "id": "7f8910b6",
   "metadata": {
    "execution": {
     "iopub.execute_input": "2023-02-17T12:32:48.276246Z",
     "iopub.status.busy": "2023-02-17T12:32:48.275103Z",
     "iopub.status.idle": "2023-02-17T12:33:56.962365Z",
     "shell.execute_reply": "2023-02-17T12:33:56.960993Z"
    },
    "papermill": {
     "duration": 68.732856,
     "end_time": "2023-02-17T12:33:56.986012",
     "exception": false,
     "start_time": "2023-02-17T12:32:48.253156",
     "status": "completed"
    },
    "tags": []
   },
   "outputs": [
    {
     "name": "stderr",
     "output_type": "stream",
     "text": [
      "/opt/conda/lib/python3.7/site-packages/sklearn/utils/validation.py:993: DataConversionWarning: A column-vector y was passed when a 1d array was expected. Please change the shape of y to (n_samples, ), for example using ravel().\n",
      "  y = column_or_1d(y, warn=True)\n"
     ]
    },
    {
     "name": "stdout",
     "output_type": "stream",
     "text": [
      "LogisticRegression(C=1, max_iter=500, random_state=42)\n"
     ]
    }
   ],
   "source": [
    "#training the model\n",
    "lr=LogisticRegression(penalty='l2',max_iter=500,C=1,random_state=42)\n",
    "#Fitting the model for Bag of words\n",
    "lr_bow=lr.fit(cv_train_reviews,train_sentiments)\n",
    "print(lr_bow)"
   ]
  },
  {
   "cell_type": "markdown",
   "id": "300aa909",
   "metadata": {
    "papermill": {
     "duration": 0.021277,
     "end_time": "2023-02-17T12:33:57.030585",
     "exception": false,
     "start_time": "2023-02-17T12:33:57.009308",
     "status": "completed"
    },
    "tags": []
   },
   "source": [
    "**Model performance on test data**"
   ]
  },
  {
   "cell_type": "code",
   "execution_count": 24,
   "id": "bfb7a6a0",
   "metadata": {
    "execution": {
     "iopub.execute_input": "2023-02-17T12:33:57.075596Z",
     "iopub.status.busy": "2023-02-17T12:33:57.075172Z",
     "iopub.status.idle": "2023-02-17T12:33:57.084582Z",
     "shell.execute_reply": "2023-02-17T12:33:57.083291Z"
    },
    "papermill": {
     "duration": 0.035449,
     "end_time": "2023-02-17T12:33:57.087363",
     "exception": false,
     "start_time": "2023-02-17T12:33:57.051914",
     "status": "completed"
    },
    "tags": []
   },
   "outputs": [
    {
     "name": "stdout",
     "output_type": "stream",
     "text": [
      "[0 0 0 ... 0 0 0]\n"
     ]
    }
   ],
   "source": [
    "#Predicting the model for bag of words\n",
    "lr_bow_predict=lr.predict(cv_test_reviews)\n",
    "print(lr_bow_predict)"
   ]
  },
  {
   "cell_type": "markdown",
   "id": "39a638e2",
   "metadata": {
    "papermill": {
     "duration": 0.020897,
     "end_time": "2023-02-17T12:33:57.130596",
     "exception": false,
     "start_time": "2023-02-17T12:33:57.109699",
     "status": "completed"
    },
    "tags": []
   },
   "source": [
    "**Accuracy of the model**"
   ]
  },
  {
   "cell_type": "code",
   "execution_count": 25,
   "id": "d7a49ca9",
   "metadata": {
    "execution": {
     "iopub.execute_input": "2023-02-17T12:33:57.175566Z",
     "iopub.status.busy": "2023-02-17T12:33:57.174425Z",
     "iopub.status.idle": "2023-02-17T12:33:57.181531Z",
     "shell.execute_reply": "2023-02-17T12:33:57.180267Z"
    },
    "papermill": {
     "duration": 0.03186,
     "end_time": "2023-02-17T12:33:57.183869",
     "exception": false,
     "start_time": "2023-02-17T12:33:57.152009",
     "status": "completed"
    },
    "tags": []
   },
   "outputs": [
    {
     "name": "stdout",
     "output_type": "stream",
     "text": [
      "lr_bow_score : 0.5981\n"
     ]
    }
   ],
   "source": [
    "#Accuracy score for bag of words\n",
    "lr_bow_score=accuracy_score(test_sentiments,lr_bow_predict)\n",
    "print(\"lr_bow_score :\",lr_bow_score)"
   ]
  },
  {
   "cell_type": "markdown",
   "id": "189a66d0",
   "metadata": {
    "papermill": {
     "duration": 0.020972,
     "end_time": "2023-02-17T12:33:57.226213",
     "exception": false,
     "start_time": "2023-02-17T12:33:57.205241",
     "status": "completed"
    },
    "tags": []
   },
   "source": [
    "**Classification report**"
   ]
  },
  {
   "cell_type": "code",
   "execution_count": 26,
   "id": "2f58a6b2",
   "metadata": {
    "execution": {
     "iopub.execute_input": "2023-02-17T12:33:57.271329Z",
     "iopub.status.busy": "2023-02-17T12:33:57.270299Z",
     "iopub.status.idle": "2023-02-17T12:33:57.297498Z",
     "shell.execute_reply": "2023-02-17T12:33:57.295903Z"
    },
    "papermill": {
     "duration": 0.052738,
     "end_time": "2023-02-17T12:33:57.300359",
     "exception": false,
     "start_time": "2023-02-17T12:33:57.247621",
     "status": "completed"
    },
    "tags": []
   },
   "outputs": [
    {
     "name": "stdout",
     "output_type": "stream",
     "text": [
      "              precision    recall  f1-score   support\n",
      "\n",
      "    Positive       0.56      0.98      0.71      4993\n",
      "    Negative       0.91      0.22      0.35      5007\n",
      "\n",
      "    accuracy                           0.60     10000\n",
      "   macro avg       0.73      0.60      0.53     10000\n",
      "weighted avg       0.73      0.60      0.53     10000\n",
      "\n"
     ]
    }
   ],
   "source": [
    "#Classification report for bag of words \n",
    "lr_bow_report=classification_report(test_sentiments,lr_bow_predict,target_names=['Positive','Negative'])\n",
    "print(lr_bow_report)"
   ]
  },
  {
   "cell_type": "markdown",
   "id": "2b1d2e94",
   "metadata": {
    "papermill": {
     "duration": 0.021113,
     "end_time": "2023-02-17T12:33:57.343555",
     "exception": false,
     "start_time": "2023-02-17T12:33:57.322442",
     "status": "completed"
    },
    "tags": []
   },
   "source": [
    "**Confusion matrix**"
   ]
  },
  {
   "cell_type": "code",
   "execution_count": 27,
   "id": "f3ec9a68",
   "metadata": {
    "execution": {
     "iopub.execute_input": "2023-02-17T12:33:57.387736Z",
     "iopub.status.busy": "2023-02-17T12:33:57.387309Z",
     "iopub.status.idle": "2023-02-17T12:33:57.401581Z",
     "shell.execute_reply": "2023-02-17T12:33:57.400344Z"
    },
    "papermill": {
     "duration": 0.039427,
     "end_time": "2023-02-17T12:33:57.403997",
     "exception": false,
     "start_time": "2023-02-17T12:33:57.364570",
     "status": "completed"
    },
    "tags": []
   },
   "outputs": [
    {
     "name": "stdout",
     "output_type": "stream",
     "text": [
      "[[1092 3915]\n",
      " [ 104 4889]]\n"
     ]
    }
   ],
   "source": [
    "#confusion matrix for bag of words\n",
    "cm_bow=confusion_matrix(test_sentiments,lr_bow_predict,labels=[1,0])\n",
    "print(cm_bow)"
   ]
  },
  {
   "cell_type": "markdown",
   "id": "43499752",
   "metadata": {
    "papermill": {
     "duration": 0.021168,
     "end_time": "2023-02-17T12:33:57.447035",
     "exception": false,
     "start_time": "2023-02-17T12:33:57.425867",
     "status": "completed"
    },
    "tags": []
   },
   "source": [
    " **b) For TFIDF**"
   ]
  },
  {
   "cell_type": "code",
   "execution_count": 28,
   "id": "d8b04456",
   "metadata": {
    "execution": {
     "iopub.execute_input": "2023-02-17T12:33:57.492912Z",
     "iopub.status.busy": "2023-02-17T12:33:57.492216Z",
     "iopub.status.idle": "2023-02-17T12:35:00.661160Z",
     "shell.execute_reply": "2023-02-17T12:35:00.659957Z"
    },
    "papermill": {
     "duration": 63.215888,
     "end_time": "2023-02-17T12:35:00.684819",
     "exception": false,
     "start_time": "2023-02-17T12:33:57.468931",
     "status": "completed"
    },
    "tags": []
   },
   "outputs": [
    {
     "name": "stderr",
     "output_type": "stream",
     "text": [
      "/opt/conda/lib/python3.7/site-packages/sklearn/utils/validation.py:993: DataConversionWarning: A column-vector y was passed when a 1d array was expected. Please change the shape of y to (n_samples, ), for example using ravel().\n",
      "  y = column_or_1d(y, warn=True)\n"
     ]
    },
    {
     "name": "stdout",
     "output_type": "stream",
     "text": [
      "LogisticRegression(C=1, max_iter=500, random_state=42)\n"
     ]
    }
   ],
   "source": [
    "#training the model\n",
    "lr= LogisticRegression(penalty='l2',max_iter=500,C=1,random_state=42)\n",
    "#Fitting the model for Bag of words\n",
    "lr_tfidf=lr.fit(cv_train_reviews,train_sentiments)\n",
    "print(lr_tfidf)"
   ]
  },
  {
   "cell_type": "markdown",
   "id": "59cda966",
   "metadata": {
    "papermill": {
     "duration": 0.022534,
     "end_time": "2023-02-17T12:35:00.728924",
     "exception": false,
     "start_time": "2023-02-17T12:35:00.706390",
     "status": "completed"
    },
    "tags": []
   },
   "source": [
    "**Model performance on test data**"
   ]
  },
  {
   "cell_type": "code",
   "execution_count": 29,
   "id": "da10a038",
   "metadata": {
    "execution": {
     "iopub.execute_input": "2023-02-17T12:35:00.774220Z",
     "iopub.status.busy": "2023-02-17T12:35:00.773486Z",
     "iopub.status.idle": "2023-02-17T12:35:00.782233Z",
     "shell.execute_reply": "2023-02-17T12:35:00.781216Z"
    },
    "papermill": {
     "duration": 0.033891,
     "end_time": "2023-02-17T12:35:00.784419",
     "exception": false,
     "start_time": "2023-02-17T12:35:00.750528",
     "status": "completed"
    },
    "tags": []
   },
   "outputs": [
    {
     "name": "stdout",
     "output_type": "stream",
     "text": [
      "[0 0 0 ... 0 0 0]\n"
     ]
    }
   ],
   "source": [
    "##Predicting the model for tfidf features\n",
    "lr_tfidf_predict=lr.predict(tv_test_reviews)\n",
    "print(lr_tfidf_predict)"
   ]
  },
  {
   "cell_type": "markdown",
   "id": "3e21c744",
   "metadata": {
    "papermill": {
     "duration": 0.021724,
     "end_time": "2023-02-17T12:35:00.827968",
     "exception": false,
     "start_time": "2023-02-17T12:35:00.806244",
     "status": "completed"
    },
    "tags": []
   },
   "source": [
    "**Accuracy of the model**"
   ]
  },
  {
   "cell_type": "code",
   "execution_count": 30,
   "id": "7a7b0418",
   "metadata": {
    "execution": {
     "iopub.execute_input": "2023-02-17T12:35:00.872914Z",
     "iopub.status.busy": "2023-02-17T12:35:00.872524Z",
     "iopub.status.idle": "2023-02-17T12:35:00.879616Z",
     "shell.execute_reply": "2023-02-17T12:35:00.878453Z"
    },
    "papermill": {
     "duration": 0.031889,
     "end_time": "2023-02-17T12:35:00.881503",
     "exception": false,
     "start_time": "2023-02-17T12:35:00.849614",
     "status": "completed"
    },
    "tags": []
   },
   "outputs": [
    {
     "name": "stdout",
     "output_type": "stream",
     "text": [
      "lr_tfidf_score : 0.5044\n"
     ]
    }
   ],
   "source": [
    "#Accuracy score for tfidf features\n",
    "lr_tfidf_score=accuracy_score(test_sentiments,lr_tfidf_predict)\n",
    "print(\"lr_tfidf_score :\",lr_tfidf_score)"
   ]
  },
  {
   "cell_type": "markdown",
   "id": "79f6d7fc",
   "metadata": {
    "papermill": {
     "duration": 0.021055,
     "end_time": "2023-02-17T12:35:00.924095",
     "exception": false,
     "start_time": "2023-02-17T12:35:00.903040",
     "status": "completed"
    },
    "tags": []
   },
   "source": [
    "**Classification report**"
   ]
  },
  {
   "cell_type": "code",
   "execution_count": 31,
   "id": "778ea648",
   "metadata": {
    "execution": {
     "iopub.execute_input": "2023-02-17T12:35:00.969734Z",
     "iopub.status.busy": "2023-02-17T12:35:00.968667Z",
     "iopub.status.idle": "2023-02-17T12:35:00.993809Z",
     "shell.execute_reply": "2023-02-17T12:35:00.992541Z"
    },
    "papermill": {
     "duration": 0.050353,
     "end_time": "2023-02-17T12:35:00.996183",
     "exception": false,
     "start_time": "2023-02-17T12:35:00.945830",
     "status": "completed"
    },
    "tags": []
   },
   "outputs": [
    {
     "name": "stdout",
     "output_type": "stream",
     "text": [
      "              precision    recall  f1-score   support\n",
      "\n",
      "    Positive       0.50      1.00      0.67      4993\n",
      "    Negative       0.98      0.01      0.02      5007\n",
      "\n",
      "    accuracy                           0.50     10000\n",
      "   macro avg       0.74      0.51      0.34     10000\n",
      "weighted avg       0.74      0.50      0.34     10000\n",
      "\n"
     ]
    }
   ],
   "source": [
    "#Classification report for tfidf features\n",
    "lr_tfidf_report=classification_report(test_sentiments,lr_tfidf_predict,target_names=['Positive','Negative'])\n",
    "print(lr_tfidf_report)"
   ]
  },
  {
   "cell_type": "markdown",
   "id": "a4acaf8a",
   "metadata": {
    "papermill": {
     "duration": 0.02122,
     "end_time": "2023-02-17T12:35:01.039311",
     "exception": false,
     "start_time": "2023-02-17T12:35:01.018091",
     "status": "completed"
    },
    "tags": []
   },
   "source": [
    "**Confusion matrix**"
   ]
  },
  {
   "cell_type": "code",
   "execution_count": 32,
   "id": "ab4aa00a",
   "metadata": {
    "execution": {
     "iopub.execute_input": "2023-02-17T12:35:01.084577Z",
     "iopub.status.busy": "2023-02-17T12:35:01.083515Z",
     "iopub.status.idle": "2023-02-17T12:35:01.097774Z",
     "shell.execute_reply": "2023-02-17T12:35:01.096548Z"
    },
    "papermill": {
     "duration": 0.038598,
     "end_time": "2023-02-17T12:35:01.099867",
     "exception": false,
     "start_time": "2023-02-17T12:35:01.061269",
     "status": "completed"
    },
    "tags": []
   },
   "outputs": [
    {
     "name": "stdout",
     "output_type": "stream",
     "text": [
      "[[  52 4955]\n",
      " [   1 4992]]\n"
     ]
    }
   ],
   "source": [
    "#confusion matrix for tfidf features\n",
    "cm_tfidf=confusion_matrix(test_sentiments,lr_tfidf_predict,labels=[1,0])\n",
    "print(cm_tfidf)"
   ]
  },
  {
   "cell_type": "markdown",
   "id": "8b3fd394",
   "metadata": {
    "papermill": {
     "duration": 0.021226,
     "end_time": "2023-02-17T12:35:01.142982",
     "exception": false,
     "start_time": "2023-02-17T12:35:01.121756",
     "status": "completed"
    },
    "tags": []
   },
   "source": [
    "# II. Multinomial Naive Bayes "
   ]
  },
  {
   "cell_type": "markdown",
   "id": "15874285",
   "metadata": {
    "papermill": {
     "duration": 0.021183,
     "end_time": "2023-02-17T12:35:01.186286",
     "exception": false,
     "start_time": "2023-02-17T12:35:01.165103",
     "status": "completed"
    },
    "tags": []
   },
   "source": [
    "**a) For BOW**"
   ]
  },
  {
   "cell_type": "code",
   "execution_count": 33,
   "id": "94fec76f",
   "metadata": {
    "execution": {
     "iopub.execute_input": "2023-02-17T12:35:01.231497Z",
     "iopub.status.busy": "2023-02-17T12:35:01.231083Z",
     "iopub.status.idle": "2023-02-17T12:35:01.873456Z",
     "shell.execute_reply": "2023-02-17T12:35:01.871992Z"
    },
    "papermill": {
     "duration": 0.667862,
     "end_time": "2023-02-17T12:35:01.875911",
     "exception": false,
     "start_time": "2023-02-17T12:35:01.208049",
     "status": "completed"
    },
    "tags": []
   },
   "outputs": [
    {
     "name": "stderr",
     "output_type": "stream",
     "text": [
      "/opt/conda/lib/python3.7/site-packages/sklearn/utils/validation.py:993: DataConversionWarning: A column-vector y was passed when a 1d array was expected. Please change the shape of y to (n_samples, ), for example using ravel().\n",
      "  y = column_or_1d(y, warn=True)\n"
     ]
    },
    {
     "name": "stdout",
     "output_type": "stream",
     "text": [
      "MultinomialNB()\n"
     ]
    }
   ],
   "source": [
    "#training the model\n",
    "mnb=MultinomialNB()\n",
    "#fitting the svm for bag of words\n",
    "mnb_bow=mnb.fit(cv_train_reviews,train_sentiments)\n",
    "print(mnb_bow)\n",
    "\n"
   ]
  },
  {
   "cell_type": "code",
   "execution_count": 34,
   "id": "1e9bf1b8",
   "metadata": {
    "execution": {
     "iopub.execute_input": "2023-02-17T12:35:01.921556Z",
     "iopub.status.busy": "2023-02-17T12:35:01.921159Z",
     "iopub.status.idle": "2023-02-17T12:35:02.006101Z",
     "shell.execute_reply": "2023-02-17T12:35:02.004713Z"
    },
    "papermill": {
     "duration": 0.110683,
     "end_time": "2023-02-17T12:35:02.008487",
     "exception": false,
     "start_time": "2023-02-17T12:35:01.897804",
     "status": "completed"
    },
    "tags": []
   },
   "outputs": [
    {
     "name": "stdout",
     "output_type": "stream",
     "text": [
      "[0 0 0 ... 0 1 1]\n"
     ]
    }
   ],
   "source": [
    "#Predicting the model for bag of words\n",
    "mnb_bow_predict=mnb.predict(cv_test_reviews)\n",
    "print(mnb_bow_predict)"
   ]
  },
  {
   "cell_type": "code",
   "execution_count": 35,
   "id": "d0f190ed",
   "metadata": {
    "execution": {
     "iopub.execute_input": "2023-02-17T12:35:02.053602Z",
     "iopub.status.busy": "2023-02-17T12:35:02.053196Z",
     "iopub.status.idle": "2023-02-17T12:35:02.061039Z",
     "shell.execute_reply": "2023-02-17T12:35:02.059838Z"
    },
    "papermill": {
     "duration": 0.032753,
     "end_time": "2023-02-17T12:35:02.063069",
     "exception": false,
     "start_time": "2023-02-17T12:35:02.030316",
     "status": "completed"
    },
    "tags": []
   },
   "outputs": [
    {
     "name": "stdout",
     "output_type": "stream",
     "text": [
      "mnb_bow_score : 0.7474\n"
     ]
    }
   ],
   "source": [
    "#Accuracy score for bag of words\n",
    "mnb_bow_score=accuracy_score(test_sentiments,mnb_bow_predict)\n",
    "print(\"mnb_bow_score :\",mnb_bow_score)"
   ]
  },
  {
   "cell_type": "code",
   "execution_count": 36,
   "id": "d681dff8",
   "metadata": {
    "execution": {
     "iopub.execute_input": "2023-02-17T12:35:02.109805Z",
     "iopub.status.busy": "2023-02-17T12:35:02.109379Z",
     "iopub.status.idle": "2023-02-17T12:35:02.137574Z",
     "shell.execute_reply": "2023-02-17T12:35:02.136038Z"
    },
    "papermill": {
     "duration": 0.054377,
     "end_time": "2023-02-17T12:35:02.139832",
     "exception": false,
     "start_time": "2023-02-17T12:35:02.085455",
     "status": "completed"
    },
    "tags": []
   },
   "outputs": [
    {
     "name": "stdout",
     "output_type": "stream",
     "text": [
      "              precision    recall  f1-score   support\n",
      "\n",
      "    Positive       0.74      0.77      0.75      4993\n",
      "    Negative       0.76      0.73      0.74      5007\n",
      "\n",
      "    accuracy                           0.75     10000\n",
      "   macro avg       0.75      0.75      0.75     10000\n",
      "weighted avg       0.75      0.75      0.75     10000\n",
      "\n"
     ]
    }
   ],
   "source": [
    "#Classification report for bag of words \n",
    "mnb_bow_report=classification_report(test_sentiments,mnb_bow_predict,target_names=['Positive','Negative'])\n",
    "print(mnb_bow_report)"
   ]
  },
  {
   "cell_type": "code",
   "execution_count": 37,
   "id": "310ccf38",
   "metadata": {
    "execution": {
     "iopub.execute_input": "2023-02-17T12:35:02.186469Z",
     "iopub.status.busy": "2023-02-17T12:35:02.186027Z",
     "iopub.status.idle": "2023-02-17T12:35:02.200413Z",
     "shell.execute_reply": "2023-02-17T12:35:02.199445Z"
    },
    "papermill": {
     "duration": 0.039944,
     "end_time": "2023-02-17T12:35:02.202587",
     "exception": false,
     "start_time": "2023-02-17T12:35:02.162643",
     "status": "completed"
    },
    "tags": []
   },
   "outputs": [
    {
     "name": "stdout",
     "output_type": "stream",
     "text": [
      "[[3641 1366]\n",
      " [1160 3833]]\n"
     ]
    }
   ],
   "source": [
    "#confusion matrix for bag of words\n",
    "cm_bow=confusion_matrix(test_sentiments,mnb_bow_predict,labels=[1,0])\n",
    "print(cm_bow)"
   ]
  },
  {
   "cell_type": "markdown",
   "id": "5fccbd0d",
   "metadata": {
    "papermill": {
     "duration": 0.021845,
     "end_time": "2023-02-17T12:35:02.246073",
     "exception": false,
     "start_time": "2023-02-17T12:35:02.224228",
     "status": "completed"
    },
    "tags": []
   },
   "source": [
    "**b) For TFIDF**"
   ]
  },
  {
   "cell_type": "code",
   "execution_count": 38,
   "id": "760c7f43",
   "metadata": {
    "execution": {
     "iopub.execute_input": "2023-02-17T12:35:02.291708Z",
     "iopub.status.busy": "2023-02-17T12:35:02.291308Z",
     "iopub.status.idle": "2023-02-17T12:35:02.980860Z",
     "shell.execute_reply": "2023-02-17T12:35:02.979607Z"
    },
    "papermill": {
     "duration": 0.715404,
     "end_time": "2023-02-17T12:35:02.983350",
     "exception": false,
     "start_time": "2023-02-17T12:35:02.267946",
     "status": "completed"
    },
    "tags": []
   },
   "outputs": [
    {
     "name": "stderr",
     "output_type": "stream",
     "text": [
      "/opt/conda/lib/python3.7/site-packages/sklearn/utils/validation.py:993: DataConversionWarning: A column-vector y was passed when a 1d array was expected. Please change the shape of y to (n_samples, ), for example using ravel().\n",
      "  y = column_or_1d(y, warn=True)\n"
     ]
    },
    {
     "name": "stdout",
     "output_type": "stream",
     "text": [
      "MultinomialNB()\n"
     ]
    }
   ],
   "source": [
    "#training the model\n",
    "mnb=MultinomialNB()\n",
    "#fitting the svm for tfidf features\n",
    "mnb_tfidf=mnb.fit(tv_train_reviews,train_sentiments)\n",
    "print(mnb_tfidf)"
   ]
  },
  {
   "cell_type": "code",
   "execution_count": 39,
   "id": "0d546f0b",
   "metadata": {
    "execution": {
     "iopub.execute_input": "2023-02-17T12:35:03.030719Z",
     "iopub.status.busy": "2023-02-17T12:35:03.029723Z",
     "iopub.status.idle": "2023-02-17T12:35:03.118109Z",
     "shell.execute_reply": "2023-02-17T12:35:03.116964Z"
    },
    "papermill": {
     "duration": 0.114592,
     "end_time": "2023-02-17T12:35:03.120245",
     "exception": false,
     "start_time": "2023-02-17T12:35:03.005653",
     "status": "completed"
    },
    "tags": []
   },
   "outputs": [
    {
     "name": "stdout",
     "output_type": "stream",
     "text": [
      "[0 0 0 ... 0 1 1]\n"
     ]
    }
   ],
   "source": [
    "#Predicting the model for tfidf features\n",
    "mnb_tfidf_predict=mnb.predict(tv_test_reviews)\n",
    "print(mnb_tfidf_predict)"
   ]
  },
  {
   "cell_type": "code",
   "execution_count": 40,
   "id": "54ac5724",
   "metadata": {
    "execution": {
     "iopub.execute_input": "2023-02-17T12:35:03.167843Z",
     "iopub.status.busy": "2023-02-17T12:35:03.166699Z",
     "iopub.status.idle": "2023-02-17T12:35:03.174192Z",
     "shell.execute_reply": "2023-02-17T12:35:03.172977Z"
    },
    "papermill": {
     "duration": 0.033544,
     "end_time": "2023-02-17T12:35:03.176219",
     "exception": false,
     "start_time": "2023-02-17T12:35:03.142675",
     "status": "completed"
    },
    "tags": []
   },
   "outputs": [
    {
     "name": "stdout",
     "output_type": "stream",
     "text": [
      "mnb_tfidf_score : 0.7509\n"
     ]
    }
   ],
   "source": [
    "#Accuracy score for tfidf features\n",
    "mnb_tfidf_score=accuracy_score(test_sentiments,mnb_tfidf_predict)\n",
    "print(\"mnb_tfidf_score :\",mnb_tfidf_score)"
   ]
  },
  {
   "cell_type": "code",
   "execution_count": 41,
   "id": "5916b669",
   "metadata": {
    "execution": {
     "iopub.execute_input": "2023-02-17T12:35:03.224142Z",
     "iopub.status.busy": "2023-02-17T12:35:03.223511Z",
     "iopub.status.idle": "2023-02-17T12:35:03.250761Z",
     "shell.execute_reply": "2023-02-17T12:35:03.249729Z"
    },
    "papermill": {
     "duration": 0.054724,
     "end_time": "2023-02-17T12:35:03.253152",
     "exception": false,
     "start_time": "2023-02-17T12:35:03.198428",
     "status": "completed"
    },
    "tags": []
   },
   "outputs": [
    {
     "name": "stdout",
     "output_type": "stream",
     "text": [
      "              precision    recall  f1-score   support\n",
      "\n",
      "    Positive       0.75      0.76      0.75      4993\n",
      "    Negative       0.75      0.74      0.75      5007\n",
      "\n",
      "    accuracy                           0.75     10000\n",
      "   macro avg       0.75      0.75      0.75     10000\n",
      "weighted avg       0.75      0.75      0.75     10000\n",
      "\n"
     ]
    }
   ],
   "source": [
    "#Classification report for tfidf features\n",
    "mnb_tfidf_report=classification_report(test_sentiments,mnb_tfidf_predict,target_names=['Positive','Negative'])\n",
    "print(mnb_tfidf_report)"
   ]
  },
  {
   "cell_type": "code",
   "execution_count": 42,
   "id": "431d60d3",
   "metadata": {
    "execution": {
     "iopub.execute_input": "2023-02-17T12:35:03.302287Z",
     "iopub.status.busy": "2023-02-17T12:35:03.301493Z",
     "iopub.status.idle": "2023-02-17T12:35:03.316383Z",
     "shell.execute_reply": "2023-02-17T12:35:03.315073Z"
    },
    "papermill": {
     "duration": 0.042067,
     "end_time": "2023-02-17T12:35:03.318719",
     "exception": false,
     "start_time": "2023-02-17T12:35:03.276652",
     "status": "completed"
    },
    "tags": []
   },
   "outputs": [
    {
     "name": "stdout",
     "output_type": "stream",
     "text": [
      "[[3729 1278]\n",
      " [1213 3780]]\n"
     ]
    }
   ],
   "source": [
    "#confusion matrix for tfidf features\n",
    "cm_tfidf=confusion_matrix(test_sentiments,mnb_tfidf_predict,labels=[1,0])\n",
    "print(cm_tfidf)"
   ]
  },
  {
   "cell_type": "markdown",
   "id": "9d9fce6b",
   "metadata": {
    "papermill": {
     "duration": 0.022736,
     "end_time": "2023-02-17T12:35:03.364349",
     "exception": false,
     "start_time": "2023-02-17T12:35:03.341613",
     "status": "completed"
    },
    "tags": []
   },
   "source": [
    "# 7. Conclusion\n",
    "\n",
    "We can summarize the findings as follows:\n",
    "\n",
    "* TF-IDF did **marginally better** than Bag-of-Words; although the difference was less than 1% in F-1 score. \n",
    "* Logistic Regression **outperformed** Naive Bayes by at least 2% in F-1 score in both cases. \n",
    "* Logistic Regression may have performed better because of its ability to **regularize** on the large vocabulary."
   ]
  }
 ],
 "metadata": {
  "kernelspec": {
   "display_name": "Python 3",
   "language": "python",
   "name": "python3"
  },
  "language_info": {
   "codemirror_mode": {
    "name": "ipython",
    "version": 3
   },
   "file_extension": ".py",
   "mimetype": "text/x-python",
   "name": "python",
   "nbconvert_exporter": "python",
   "pygments_lexer": "ipython3",
   "version": "3.7.12"
  },
  "papermill": {
   "default_parameters": {},
   "duration": 578.311962,
   "end_time": "2023-02-17T12:35:06.008165",
   "environment_variables": {},
   "exception": null,
   "input_path": "__notebook__.ipynb",
   "output_path": "__notebook__.ipynb",
   "parameters": {},
   "start_time": "2023-02-17T12:25:27.696203",
   "version": "2.3.4"
  }
 },
 "nbformat": 4,
 "nbformat_minor": 5
}
